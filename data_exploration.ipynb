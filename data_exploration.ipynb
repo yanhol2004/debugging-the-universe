{
 "cells": [
  {
   "attachments": {},
   "cell_type": "markdown",
   "metadata": {},
   "source": [
    "# Exploratory Data Analysis"
   ]
  },
  {
   "attachments": {},
   "cell_type": "markdown",
   "metadata": {},
   "source": [
    "## Loading the data"
   ]
  },
  {
   "cell_type": "code",
   "execution_count": 1,
   "metadata": {},
   "outputs": [],
   "source": [
    "# Import libraries\n",
    "import numpy as np\n",
    "import pandas as pd\n",
    "from obspy import read\n",
    "from datetime import datetime, timedelta\n",
    "import matplotlib.pyplot as plt\n",
    "import os"
   ]
  },
  {
   "cell_type": "code",
   "execution_count": 2,
   "metadata": {},
   "outputs": [
    {
     "data": {
      "text/html": [
       "<div>\n",
       "<style scoped>\n",
       "    .dataframe tbody tr th:only-of-type {\n",
       "        vertical-align: middle;\n",
       "    }\n",
       "\n",
       "    .dataframe tbody tr th {\n",
       "        vertical-align: top;\n",
       "    }\n",
       "\n",
       "    .dataframe thead th {\n",
       "        text-align: right;\n",
       "    }\n",
       "</style>\n",
       "<table border=\"1\" class=\"dataframe\">\n",
       "  <thead>\n",
       "    <tr style=\"text-align: right;\">\n",
       "      <th></th>\n",
       "      <th>filename</th>\n",
       "      <th>time_abs(%Y-%m-%dT%H:%M:%S.%f)</th>\n",
       "      <th>time_rel(sec)</th>\n",
       "      <th>evid</th>\n",
       "      <th>mq_type</th>\n",
       "    </tr>\n",
       "  </thead>\n",
       "  <tbody>\n",
       "    <tr>\n",
       "      <th>0</th>\n",
       "      <td>xa.s12.00.mhz.1970-01-19HR00_evid00002</td>\n",
       "      <td>1970-01-19T20:25:00.000000</td>\n",
       "      <td>73500.0</td>\n",
       "      <td>evid00002</td>\n",
       "      <td>impact_mq</td>\n",
       "    </tr>\n",
       "    <tr>\n",
       "      <th>1</th>\n",
       "      <td>xa.s12.00.mhz.1970-03-25HR00_evid00003</td>\n",
       "      <td>1970-03-25T03:32:00.000000</td>\n",
       "      <td>12720.0</td>\n",
       "      <td>evid00003</td>\n",
       "      <td>impact_mq</td>\n",
       "    </tr>\n",
       "    <tr>\n",
       "      <th>2</th>\n",
       "      <td>xa.s12.00.mhz.1970-03-26HR00_evid00004</td>\n",
       "      <td>1970-03-26T20:17:00.000000</td>\n",
       "      <td>73020.0</td>\n",
       "      <td>evid00004</td>\n",
       "      <td>impact_mq</td>\n",
       "    </tr>\n",
       "    <tr>\n",
       "      <th>3</th>\n",
       "      <td>xa.s12.00.mhz.1970-04-25HR00_evid00006</td>\n",
       "      <td>1970-04-25T01:14:00.000000</td>\n",
       "      <td>4440.0</td>\n",
       "      <td>evid00006</td>\n",
       "      <td>impact_mq</td>\n",
       "    </tr>\n",
       "    <tr>\n",
       "      <th>4</th>\n",
       "      <td>xa.s12.00.mhz.1970-04-26HR00_evid00007</td>\n",
       "      <td>1970-04-26T14:29:00.000000</td>\n",
       "      <td>52140.0</td>\n",
       "      <td>evid00007</td>\n",
       "      <td>deep_mq</td>\n",
       "    </tr>\n",
       "    <tr>\n",
       "      <th>...</th>\n",
       "      <td>...</td>\n",
       "      <td>...</td>\n",
       "      <td>...</td>\n",
       "      <td>...</td>\n",
       "      <td>...</td>\n",
       "    </tr>\n",
       "    <tr>\n",
       "      <th>71</th>\n",
       "      <td>xa.s12.00.mhz.1974-10-14HR00_evid00156</td>\n",
       "      <td>1974-10-14T17:43:00.000000</td>\n",
       "      <td>63780.0</td>\n",
       "      <td>evid00156</td>\n",
       "      <td>impact_mq</td>\n",
       "    </tr>\n",
       "    <tr>\n",
       "      <th>72</th>\n",
       "      <td>xa.s12.00.mhz.1975-04-12HR00_evid00191</td>\n",
       "      <td>1975-04-12T18:15:00.000000</td>\n",
       "      <td>65700.0</td>\n",
       "      <td>evid00191</td>\n",
       "      <td>impact_mq</td>\n",
       "    </tr>\n",
       "    <tr>\n",
       "      <th>73</th>\n",
       "      <td>xa.s12.00.mhz.1975-05-04HR00_evid00192</td>\n",
       "      <td>1975-05-04T10:05:00.000000</td>\n",
       "      <td>36300.0</td>\n",
       "      <td>evid00192</td>\n",
       "      <td>impact_mq</td>\n",
       "    </tr>\n",
       "    <tr>\n",
       "      <th>74</th>\n",
       "      <td>xa.s12.00.mhz.1975-06-24HR00_evid00196</td>\n",
       "      <td>1975-06-24T16:03:00.000000</td>\n",
       "      <td>57780.0</td>\n",
       "      <td>evid00196</td>\n",
       "      <td>impact_mq</td>\n",
       "    </tr>\n",
       "    <tr>\n",
       "      <th>75</th>\n",
       "      <td>xa.s12.00.mhz.1975-06-26HR00_evid00198</td>\n",
       "      <td>1975-06-26T03:24:00.000000</td>\n",
       "      <td>12240.0</td>\n",
       "      <td>evid00198</td>\n",
       "      <td>impact_mq</td>\n",
       "    </tr>\n",
       "  </tbody>\n",
       "</table>\n",
       "<p>76 rows × 5 columns</p>\n",
       "</div>"
      ],
      "text/plain": [
       "                                  filename time_abs(%Y-%m-%dT%H:%M:%S.%f)  \\\n",
       "0   xa.s12.00.mhz.1970-01-19HR00_evid00002     1970-01-19T20:25:00.000000   \n",
       "1   xa.s12.00.mhz.1970-03-25HR00_evid00003     1970-03-25T03:32:00.000000   \n",
       "2   xa.s12.00.mhz.1970-03-26HR00_evid00004     1970-03-26T20:17:00.000000   \n",
       "3   xa.s12.00.mhz.1970-04-25HR00_evid00006     1970-04-25T01:14:00.000000   \n",
       "4   xa.s12.00.mhz.1970-04-26HR00_evid00007     1970-04-26T14:29:00.000000   \n",
       "..                                     ...                            ...   \n",
       "71  xa.s12.00.mhz.1974-10-14HR00_evid00156     1974-10-14T17:43:00.000000   \n",
       "72  xa.s12.00.mhz.1975-04-12HR00_evid00191     1975-04-12T18:15:00.000000   \n",
       "73  xa.s12.00.mhz.1975-05-04HR00_evid00192     1975-05-04T10:05:00.000000   \n",
       "74  xa.s12.00.mhz.1975-06-24HR00_evid00196     1975-06-24T16:03:00.000000   \n",
       "75  xa.s12.00.mhz.1975-06-26HR00_evid00198     1975-06-26T03:24:00.000000   \n",
       "\n",
       "    time_rel(sec)       evid    mq_type  \n",
       "0         73500.0  evid00002  impact_mq  \n",
       "1         12720.0  evid00003  impact_mq  \n",
       "2         73020.0  evid00004  impact_mq  \n",
       "3          4440.0  evid00006  impact_mq  \n",
       "4         52140.0  evid00007    deep_mq  \n",
       "..            ...        ...        ...  \n",
       "71        63780.0  evid00156  impact_mq  \n",
       "72        65700.0  evid00191  impact_mq  \n",
       "73        36300.0  evid00192  impact_mq  \n",
       "74        57780.0  evid00196  impact_mq  \n",
       "75        12240.0  evid00198  impact_mq  \n",
       "\n",
       "[76 rows x 5 columns]"
      ]
     },
     "execution_count": 2,
     "metadata": {},
     "output_type": "execute_result"
    }
   ],
   "source": [
    "cat_directory = './data/lunar/training/catalogs/'\n",
    "cat_file = cat_directory + 'apollo12_catalog_GradeA_final.csv'\n",
    "cat = pd.read_csv(cat_file)\n",
    "cat # the arrival times cataloged"
   ]
  },
  {
   "cell_type": "code",
   "execution_count": 17,
   "metadata": {},
   "outputs": [
    {
     "ename": "ModuleNotFoundError",
     "evalue": "No module named 'tensorflow'",
     "output_type": "error",
     "traceback": [
      "\u001b[0;31m---------------------------------------------------------------------------\u001b[0m",
      "\u001b[0;31mModuleNotFoundError\u001b[0m                       Traceback (most recent call last)",
      "Cell \u001b[0;32mIn[17], line 2\u001b[0m\n\u001b[1;32m      1\u001b[0m \u001b[39mimport\u001b[39;00m \u001b[39mnumpy\u001b[39;00m \u001b[39mas\u001b[39;00m \u001b[39mnp\u001b[39;00m\n\u001b[0;32m----> 2\u001b[0m \u001b[39mimport\u001b[39;00m \u001b[39mtensorflow\u001b[39;00m \u001b[39mas\u001b[39;00m \u001b[39mtf\u001b[39;00m\n\u001b[1;32m      3\u001b[0m \u001b[39mfrom\u001b[39;00m \u001b[39mtensorflow\u001b[39;00m\u001b[39m.\u001b[39;00m\u001b[39mkeras\u001b[39;00m \u001b[39mimport\u001b[39;00m layers\n\u001b[1;32m      5\u001b[0m \u001b[39m# Define the model with quake type input\u001b[39;00m\n",
      "\u001b[0;31mModuleNotFoundError\u001b[0m: No module named 'tensorflow'"
     ]
    }
   ],
   "source": []
  },
  {
   "cell_type": "code",
   "execution_count": 16,
   "metadata": {},
   "outputs": [
    {
     "data": {
      "image/png": "[encoded data removed]",
      "text/plain": [
       "<Figure size 1000x400 with 1 Axes>"
      ]
     },
     "metadata": {},
     "output_type": "display_data"
    }
   ],
   "source": [
    "# Load the specific seismic data file corresponding to a seismic event\n",
    "def load_seismic_data(file_path):\n",
    "    data = pd.read_csv(file_path)\n",
    "    return data\n",
    "\n",
    "# Plot the waveform of the seismic event\n",
    "def plot_waveform(data, arrival_time_rel):\n",
    "    time_rel = data['time_rel(sec)']\n",
    "    velocity = data['velocity(m/s)']\n",
    "    \n",
    "    plt.figure(figsize=(10, 4))\n",
    "    plt.plot(time_rel, velocity, label='Seismic Data')\n",
    "    plt.axvline(arrival_time_rel, color='red', linestyle='-', label='Arrival Time')\n",
    "    plt.title('Seismic Event Waveform')\n",
    "    plt.xlabel('Time (s)')\n",
    "    plt.ylabel('Velocity (m/s)')\n",
    "    plt.legend()\n",
    "    plt.show()\n",
    "\n",
    "# Example usage with first event in the catalog\n",
    "# print(cat.iloc[0])\n",
    "row = cat.iloc[0]\n",
    "file_path = f'./data/lunar/training/data/S12_GradeA/{row.filename}.csv'\n",
    "seismic_data = load_seismic_data(file_path)\n",
    "\n",
    "# Plot the waveform of the event\n",
    "plot_waveform(seismic_data, row[\"time_rel(sec)\"])"
   ]
  },
  {
   "cell_type": "code",
   "execution_count": null,
   "metadata": {},
   "outputs": [],
   "source": []
  }
 ],
 "metadata": {
  "kernelspec": {
   "display_name": "Python 3",
   "language": "python",
   "name": "python3"
  },
  "language_info": {
   "codemirror_mode": {
    "name": "ipython",
    "version": 3
   },
   "file_extension": ".py",
   "mimetype": "text/x-python",
   "name": "python",
   "nbconvert_exporter": "python",
   "pygments_lexer": "ipython3",
   "version": "3.10.4"
  },
  "orig_nbformat": 4
 },
 "nbformat": 4,
 "nbformat_minor": 2
}
